{
 "cells": [
  {
   "cell_type": "code",
   "execution_count": 7,
   "id": "43d55a71",
   "metadata": {},
   "outputs": [
    {
     "name": "stderr",
     "output_type": "stream",
     "text": [
      "C:\\Users\\mit\\AppData\\Local\\Temp\\ipykernel_13984\\1483254453.py:10: DeprecationWarning: executable_path has been deprecated, please pass in a Service object\n",
      "  driver = webdriver.Chrome(ChromeDriverManager().install())\n"
     ]
    }
   ],
   "source": [
    "from webdriver_manager.chrome import ChromeDriverManager\n",
    "from selenium import webdriver  \n",
    "from selenium.webdriver.common.by import By\n",
    "from selenium.webdriver.common.keys import Keys\n",
    "import pandas as pd\n",
    "import googletrans\n",
    "from googletrans import Translator\n",
    "import time\n",
    "\n",
    "driver = webdriver.Chrome(ChromeDriverManager().install())\n",
    "URL = 'https://www.washingtonpost.com/world/?itid=hp_top_nav_world'\n",
    "driver.get(url= URL)\n",
    "driver.implicitly_wait(time_to_wait=10)\n"
   ]
  },
  {
   "cell_type": "code",
   "execution_count": 17,
   "id": "ab41f798",
   "metadata": {},
   "outputs": [
    {
     "name": "stdout",
     "output_type": "stream",
     "text": [
      "검색을 하시겠습니까?(y/n)n\n",
      "['1. Politics', '2. Opinions', '3. War in Ukraine', '4. Climate', '5. Well+Being', '6. Tech', '7. Lifestyle', '8. World', '9. ', '10. ']\n",
      "원하는 주제의 번호를 입력하세요6\n",
      "더 자세한 주제 원한다면 y를 입력하세요.(y/n)y\n",
      "['1. Help Desk', '2. Future of Transportation', '3. Innovations', '4. Internet Culture', '5. Space', '6. Tech Policy', '7. Video Gaming']\n",
      "원하는 주제의 번호를 입력하세요7\n"
     ]
    }
   ],
   "source": [
    "a= 0\n",
    "b = input('검색을 하시겠습니까?(y/n)')\n",
    "count = 1\n",
    "\n",
    "if b == 'y' :\n",
    "    try :\n",
    "        while(1) :\n",
    "            text = input('무엇을 검색하시겠습니까.(영어입력)')\n",
    "            if text.encode().isalpha():\n",
    "                break\n",
    "        driver.find_element(By.CSS_SELECTOR,'#__next > div > div.PJLV.wpds-c-khdSlv.wpds-c-fqeRep > nav > div.wpds-c-kKPYWe.wpds-c-kKPYWe-cIACJd-variant-leftSide > div.PJLV.wpds-c-cMsOSt.chromatic-ignore > button').click()\n",
    "        c = driver.find_element(By.CSS_SELECTOR,'#query')\n",
    "        c.send_keys(text)\n",
    "        c.send_keys(Keys.RETURN)\n",
    "        elem = driver.find_element(By.TAG_NAME, \"body\")\n",
    "        button = driver.find_element(By.CSS_SELECTOR,'#main-content > div.jsx-2309075444.search-app-container.mr-auto.ml-auto.flex.flex-column.col-8-lg > section.jsx-2865089505.search-results-wrapper > button')\n",
    "    except :\n",
    "        pass\n",
    "else :\n",
    "    tags=driver.find_elements(By.CSS_SELECTOR,'#__next > div > div.PJLV.wpds-c-khdSlv.wpds-c-fqeRep > nav > ul > li > a > p')\n",
    "    button = driver.find_elements(By.CSS_SELECTOR,'#__next > div:nth-child(4) > div > main > article > div > div.center.w-100 > div > button')\n",
    "    tag =[]\n",
    "    for t in tags :\n",
    "        tag.append(\"{}. \".format(count)+t.text)\n",
    "        count += 1\n",
    "    print(tag)\n",
    "    big = int(input('원하는 주제의 번호를 입력하세요'))\n",
    "    tags[big-1].click()\n",
    "    small = input('더 자세한 주제 원한다면 y를 입력하세요.(y/n)')\n",
    "    if small == 'y' :\n",
    "        elem = driver.find_element(By.TAG_NAME, \"body\")\n",
    "        stags = driver.find_elements(By.CSS_SELECTOR,'#__next > header > div > div > nav > div > div > a')\n",
    "        stag = []\n",
    "        count = 1\n",
    "        for s in stags :\n",
    "            stag.append(\"{}. \".format(count)+s.text)\n",
    "            count += 1\n",
    "        print(stag)\n",
    "        bigg = int(input('원하는 주제의 번호를 입력하세요'))\n",
    "        stags[bigg-1].click()\n",
    "    else :\n",
    "        pass\n",
    "elem = driver.find_element(By.TAG_NAME, \"body\")\n",
    "for i in range(5):\n",
    "    elem.send_keys(Keys.PAGE_DOWN)\n",
    "    time.sleep(0.1)\n",
    "    try :\n",
    "        button.click()\n",
    "        for i in range(30):\n",
    "            elem.send_keys(Keys.PAGE_DOWN)\n",
    "            time.sleep(0.1)\n",
    "    except :\n",
    "        pass"
   ]
  },
  {
   "cell_type": "code",
   "execution_count": 4,
   "id": "bc7f4b56",
   "metadata": {
    "scrolled": false
   },
   "outputs": [],
   "source": [
    "translator = Translator()\n",
    "result = []\n",
    "html = driver.find_elements(By.CSS_SELECTOR,'#__next > div:nth-child(4) > div > main > article > div > div > div > div.story-headline.pr-sm')\n",
    "for i in html :\n",
    "    try :\n",
    "        c = i.text\n",
    "        d = c.split('\\n')\n",
    "        if len(d) !=4 :\n",
    "            pass\n",
    "        n = i.find_element(By.CSS_SELECTOR,'#__next > div:nth-child(4) > div > main > article > div > div > div > div.story-headline.pr-sm > span.font-xxxs.font-light.font--meta-text.lh-sm.gray-dark.dot-xxs-gray-dark')\n",
    "        e = len(n.text)\n",
    "        f = d[3]\n",
    "        str1 = translator.translate(d[0],dest='ko',src=\"auto\")\n",
    "        str2 = translator.translate(d[1],dest='ko',src=\"auto\")\n",
    "        str3 = translator.translate(d[2],dest='ko',src=\"auto\")\n",
    "        str4 = translator.translate(f[:-e],dest='ko',src=\"auto\")\n",
    "        result.append([d[0]] + [d[1]] +[d[2]] +[f[:-e]] + [f[-e:]] + [str1.text] + [str2.text] + [str3.text]+ [str4.text]+ [f[-e:]])\n",
    "    except :\n",
    "        pass\n",
    "driver.close()\n",
    "tbl = pd.DataFrame(result, columns=('region','title','main','reporter','day','지역','제목','메인','기자','날짜'))\n",
    "tbl.to_csv(r'C:\\Users\\mit\\Desktop\\solo\\news.csv',encoding='utf-8-sig',mode='w',index='true')"
   ]
  },
  {
   "cell_type": "code",
   "execution_count": null,
   "id": "a0ce211c",
   "metadata": {},
   "outputs": [],
   "source": []
  },
  {
   "cell_type": "code",
   "execution_count": null,
   "id": "82bbcf1b",
   "metadata": {},
   "outputs": [],
   "source": []
  }
 ],
 "metadata": {
  "kernelspec": {
   "display_name": "Python 3 (ipykernel)",
   "language": "python",
   "name": "python3"
  },
  "language_info": {
   "codemirror_mode": {
    "name": "ipython",
    "version": 3
   },
   "file_extension": ".py",
   "mimetype": "text/x-python",
   "name": "python",
   "nbconvert_exporter": "python",
   "pygments_lexer": "ipython3",
   "version": "3.9.13"
  },
  "vscode": {
   "interpreter": {
    "hash": "756a37dd7eb08b89f150994e8a5c96575754e07b585ffc96e71bf09054344a43"
   }
  }
 },
 "nbformat": 4,
 "nbformat_minor": 5
}
