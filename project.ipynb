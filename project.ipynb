{
 "cells": [
  {
   "cell_type": "code",
   "execution_count": 10,
   "id": "43d55a71",
   "metadata": {},
   "outputs": [
    {
     "name": "stderr",
     "output_type": "stream",
     "text": [
      "C:\\Users\\mit\\AppData\\Local\\Temp\\ipykernel_2376\\1564200356.py:7: DeprecationWarning: executable_path has been deprecated, please pass in a Service object\n",
      "  driver = webdriver.Chrome(ChromeDriverManager().install())\n"
     ]
    }
   ],
   "source": [
    "from webdriver_manager.chrome import ChromeDriverManager\n",
    "from selenium import webdriver  \n",
    "from selenium.webdriver.common.by import By\n",
    "from selenium.webdriver.common.keys import Keys\n",
    "import pandas as pd\n",
    "import googletrans\n",
    "from googletrans import Translator\n",
    "import time\n",
    "\n",
    "driver = webdriver.Chrome(ChromeDriverManager().install())\n",
    "URL = 'https://www.washingtonpost.com/world/?itid=hp_top_nav_world'\n",
    "driver.get(url= URL)\n",
    "driver.implicitly_wait(time_to_wait=10)\n"
   ]
  },
  {
   "cell_type": "code",
   "execution_count": 4,
   "id": "ab41f798",
   "metadata": {},
   "outputs": [],
   "source": [
    "elem = driver.find_element(By.TAG_NAME, \"body\")\n",
    "a= 0\n",
    "for i in range(5):\n",
    "    elem.send_keys(Keys.PAGE_DOWN)\n",
    "    time.sleep(0.1)\n",
    "    try :\n",
    "        driver.find_element(By.CSS_SELECTOR,'#__next > div:nth-child(4) > div > main > article > div > div.center.w-100 > div > button').click()\n",
    "        for i in range(30):\n",
    "            elem.send_keys(Keys.PAGE_DOWN)\n",
    "            time.sleep(0.1)\n",
    "    except :\n",
    "        pass"
   ]
  },
  {
   "cell_type": "code",
   "execution_count": 8,
   "id": "bc7f4b56",
   "metadata": {
    "scrolled": false
   },
   "outputs": [],
   "source": [
    "translator = Translator()\n",
    "result = []\n",
    "html = driver.find_elements(By.CSS_SELECTOR,'#__next > div:nth-child(4) > div > main > article > div > div > div > div.story-headline.pr-sm')\n",
    "for i in html :\n",
    "    try :\n",
    "        c = i.text\n",
    "        d = c.split('\\n')\n",
    "        if len(d) !=4 :\n",
    "            pass\n",
    "        n = i.find_element(By.CSS_SELECTOR,'#__next > div:nth-child(4) > div > main > article > div > div > div > div.story-headline.pr-sm > span.font-xxxs.font-light.font--meta-text.lh-sm.gray-dark.dot-xxs-gray-dark')\n",
    "        e = len(n.text)\n",
    "        f = d[3]\n",
    "        str1 = translator.translate(d[0],dest='ko',src=\"auto\")\n",
    "        str2 = translator.translate(d[1],dest='ko',src=\"auto\")\n",
    "        str3 = translator.translate(d[2],dest='ko',src=\"auto\")\n",
    "        str4 = translator.translate(f[:-e],dest='ko',src=\"auto\")\n",
    "        result.append([d[0]] + [d[1]] +[d[2]] +[f[:-e]] + [f[-e:]] + [str1.text] + [str2.text] + [str3.text]+ [str4.text]+ [f[-e:]])\n",
    "    except :\n",
    "        pass\n",
    "driver.close()\n",
    "tbl = pd.DataFrame(result, columns=('region','title','main','reporter','day','지역','제목','메인','기자','날짜'))\n",
    "tbl.to_csv(r'C:\\Users\\mit\\Desktop\\solo\\news.csv',encoding='utf-8-sig',mode='w',index='true')"
   ]
  },
  {
   "cell_type": "code",
   "execution_count": null,
   "id": "a0ce211c",
   "metadata": {},
   "outputs": [],
   "source": []
  },
  {
   "cell_type": "code",
   "execution_count": null,
   "id": "82bbcf1b",
   "metadata": {},
   "outputs": [],
   "source": []
  }
 ],
 "metadata": {
  "kernelspec": {
   "display_name": "Python 3.10.7 64-bit",
   "language": "python",
   "name": "python3"
  },
  "language_info": {
   "codemirror_mode": {
    "name": "ipython",
    "version": 3
   },
   "file_extension": ".py",
   "mimetype": "text/x-python",
   "name": "python",
   "nbconvert_exporter": "python",
   "pygments_lexer": "ipython3",
   "version": "3.10.7"
  },
  "vscode": {
   "interpreter": {
    "hash": "756a37dd7eb08b89f150994e8a5c96575754e07b585ffc96e71bf09054344a43"
   }
  }
 },
 "nbformat": 4,
 "nbformat_minor": 5
}
